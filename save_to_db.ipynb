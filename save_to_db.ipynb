{
 "cells": [
  {
   "cell_type": "markdown",
   "id": "e9eb4392-835d-4351-9581-2ef78955bb41",
   "metadata": {},
   "source": [
    "# import"
   ]
  },
  {
   "cell_type": "code",
   "execution_count": 1,
   "id": "5d8120c7-d963-4294-8ec0-065d021fdd9a",
   "metadata": {},
   "outputs": [],
   "source": [
    "import os\n",
    "import pickle\n",
    "#pip install python-chess\n",
    "import chess.pgn\n",
    "from tqdm import tqdm\n",
    "import pandas as pd\n",
    "import psycopg2\n",
    "from psycopg2 import sql\n"
   ]
  },
  {
   "cell_type": "markdown",
   "id": "bc56e336-455a-4611-b5a7-16f12f73e559",
   "metadata": {},
   "source": [
    "# Connect to DB"
   ]
  },
  {
   "cell_type": "code",
   "execution_count": 2,
   "id": "f983d84c-e835-4080-bccf-8ee41b3077d5",
   "metadata": {},
   "outputs": [],
   "source": [
    "connection_params = {\n",
    "    \"dbname\": \"chessdb\",\n",
    "    \"user\": \"postgres\",    \n",
    "    \"password\": \"123456\", # ALTER USER postgres PASSWORD '123456';\n",
    "    \"host\": \"localhost\",\n",
    "    \"port\": \"5432\"\n",
    "}\n",
    "conn = psycopg2.connect(**connection_params)\n",
    "cur = conn.cursor()"
   ]
  },
  {
   "cell_type": "markdown",
   "id": "2ee3ca73-a2cb-4c47-be1a-a3e6e1ece0da",
   "metadata": {},
   "source": [
    "# Set up table"
   ]
  },
  {
   "cell_type": "code",
   "execution_count": 3,
   "id": "a54c4f41-dfb6-4691-ba97-abcac73ca3da",
   "metadata": {},
   "outputs": [
    {
     "name": "stdout",
     "output_type": "stream",
     "text": [
      "Table 'chess_positions' is ready.\n"
     ]
    }
   ],
   "source": [
    "# sudo -u postgres psql\n",
    "# CREATE DATABASE chessdb;\n",
    "table_name = \"chess_positions\"\n",
    "create_table_query = f\"\"\"\n",
    "DROP TABLE IF EXISTS {table_name};\n",
    "CREATE TABLE IF NOT EXISTS {table_name} (\n",
    "    id SERIAL PRIMARY KEY,\n",
    "    position TEXT,\n",
    "    result TEXT,\n",
    "    white TEXT,\n",
    "    black TEXT,\n",
    "    next_move TEXT\n",
    ");\n",
    "\"\"\"\n",
    "cur.execute(create_table_query)\n",
    "conn.commit()\n",
    "print(f\"Table '{table_name}' is ready.\")"
   ]
  },
  {
   "cell_type": "markdown",
   "id": "f8672faa-c7ee-4b09-91cd-02e3ba45483b",
   "metadata": {},
   "source": [
    "# save data to DB"
   ]
  },
  {
   "cell_type": "code",
   "execution_count": 4,
   "id": "7674aff5-bb2c-42be-8fe0-833611b2eb45",
   "metadata": {},
   "outputs": [],
   "source": [
    "def save_data_to_db(data):\n",
    "    for row in data:\n",
    "        insert_query = f\"\"\"\n",
    "        INSERT INTO {table_name} (position, result, white, black, next_move)\n",
    "        VALUES (%s, %s, %s, %s, %s);\n",
    "        \"\"\"\n",
    "        cur.execute(insert_query, (row['Position'], row['Result'], row['White'], row['Black'], row['Next_Move']))\n",
    "\n",
    "    # Commit changes\n",
    "    conn.commit()   "
   ]
  },
  {
   "cell_type": "markdown",
   "id": "d13c6ab6-1cb7-47c5-ade9-c62cadb4588a",
   "metadata": {},
   "source": [
    "# load data"
   ]
  },
  {
   "cell_type": "code",
   "execution_count": 5,
   "id": "39ec6ec7-c677-4aaa-8cf9-e69b98045db4",
   "metadata": {},
   "outputs": [],
   "source": [
    "def file_to_pandas(game):\n",
    "    pass"
   ]
  },
  {
   "cell_type": "code",
   "execution_count": 6,
   "id": "b57d7211-acbb-41c7-adcd-44c54d6c101e",
   "metadata": {},
   "outputs": [],
   "source": [
    "folder_path = 'Final-merged'\n",
    "files = [f for f in os.listdir(folder_path) if os.path.isfile(os.path.join(folder_path, f))]"
   ]
  },
  {
   "cell_type": "code",
   "execution_count": 7,
   "id": "f7856cb3-03a0-47c0-98fd-9a8bb806c13f",
   "metadata": {},
   "outputs": [
    {
     "name": "stderr",
     "output_type": "stream",
     "text": [
      "Processing files: 100%|███████████████████████| 294/294 [44:41<00:00,  9.12s/it]\n"
     ]
    }
   ],
   "source": [
    "for file in tqdm(files, desc=\"Processing files\"):\n",
    "    pgn_file_path = f'Final-merged/{file}'\n",
    "    with open(pgn_file_path, \"r\") as pgn_file:\n",
    "        games = []\n",
    "        while True:\n",
    "            game = chess.pgn.read_game(pgn_file)\n",
    "            if game is None:\n",
    "                break\n",
    "            games.append(game)\n",
    "    data = []\n",
    "    for game in games:\n",
    "        result = game.headers.get(\"Result\", \"Unknown\")\n",
    "        white_player = game.headers.get(\"White\", \"Unknown\")\n",
    "        black_player = game.headers.get(\"Black\", \"Unknown\")\n",
    "        board = game.board()\n",
    "        for move in game.mainline_moves():\n",
    "            current_position = str(board)\n",
    "            board.push(move)\n",
    "            next_move = move.uci()\n",
    "            data.append({\n",
    "                \"Position\": current_position,\n",
    "                \"Result\": result,\n",
    "                \"White\": white_player,\n",
    "                \"Black\": black_player,\n",
    "                \"Next_Move\": next_move\n",
    "            })\n",
    "    save_data_to_db(data)\n",
    "    "
   ]
  }
 ],
 "metadata": {
  "kernelspec": {
   "display_name": "Python 3 (ipykernel)",
   "language": "python",
   "name": "python3"
  },
  "language_info": {
   "codemirror_mode": {
    "name": "ipython",
    "version": 3
   },
   "file_extension": ".py",
   "mimetype": "text/x-python",
   "name": "python",
   "nbconvert_exporter": "python",
   "pygments_lexer": "ipython3",
   "version": "3.9.20"
  }
 },
 "nbformat": 4,
 "nbformat_minor": 5
}
